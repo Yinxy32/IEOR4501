{
  "nbformat": 4,
  "nbformat_minor": 0,
  "metadata": {
    "colab": {
      "name": "Top10.ipynb",
      "provenance": [],
      "collapsed_sections": []
    },
    "kernelspec": {
      "name": "python3",
      "display_name": "Python 3"
    },
    "language_info": {
      "name": "python"
    }
  },
  "cells": [
    {
      "cell_type": "code",
      "execution_count": 3,
      "metadata": {
        "id": "-hZh_qOuj762"
      },
      "outputs": [],
      "source": [
        "import numpy as np\n",
        "import pandas as pd\n",
        "import os"
      ]
    },
    {
      "cell_type": "code",
      "source": [
        "os.chdir('/content/drive/MyDrive/IEOR4501')"
      ],
      "metadata": {
        "id": "mcf8xFr9kWSv"
      },
      "execution_count": 4,
      "outputs": []
    },
    {
      "cell_type": "code",
      "source": [
        "data = pd.read_csv('311_Service_Requests_2020.csv')"
      ],
      "metadata": {
        "colab": {
          "base_uri": "https://localhost:8080/"
        },
        "id": "NSmqIOk1lMQz",
        "outputId": "049f3d11-94df-49d5-b776-f7f115d05da8"
      },
      "execution_count": 5,
      "outputs": [
        {
          "output_type": "stream",
          "name": "stderr",
          "text": [
            "/usr/local/lib/python3.7/dist-packages/IPython/core/interactiveshell.py:2718: DtypeWarning: Columns (20,31,32) have mixed types.Specify dtype option on import or set low_memory=False.\n",
            "  interactivity=interactivity, compiler=compiler, result=result)\n"
          ]
        }
      ]
    },
    {
      "cell_type": "code",
      "source": [
        "zip_code = 10027"
      ],
      "metadata": {
        "id": "5WYWv6Q2rQqI"
      },
      "execution_count": 7,
      "outputs": []
    },
    {
      "cell_type": "code",
      "source": [
        "data_zipcode = data[data['Incident Zip'] == zip_code]"
      ],
      "metadata": {
        "id": "MvLiGRZqq4fM"
      },
      "execution_count": 17,
      "outputs": []
    },
    {
      "cell_type": "code",
      "source": [
        "#  top 10 causes of calls to 311 are in your chosen ZIP code, \n",
        "#  and total incidents of each of these 10 types there have been in the year 2020\n",
        "data_causes = data_zipcode[['Unique Key','Complaint Type']].groupby(by = 'Complaint Type').count().reset_index()\n",
        "data_causes.columns = ['Complaint Type','count']\n",
        "data_top10_causes = data_causes.sort_values(by = 'count', ascending=False).head(10)\n",
        "top10 = pd.Series(data = data_top10_causes['count'].tolist(),index = data_top10_causes['Complaint Type'])\n",
        "top10"
      ],
      "metadata": {
        "colab": {
          "base_uri": "https://localhost:8080/"
        },
        "id": "J4TlNFbArFuG",
        "outputId": "30d88acd-708e-414f-8086-6541d06f6e83"
      },
      "execution_count": 28,
      "outputs": [
        {
          "output_type": "execute_result",
          "data": {
            "text/plain": [
              "Complaint Type\n",
              "Noise - Residential            3610\n",
              "Noise - Street/Sidewalk        3087\n",
              "HEAT/HOT WATER                 2138\n",
              "Illegal Parking                1118\n",
              "Non-Emergency Police Matter     862\n",
              "Illegal Fireworks               779\n",
              "Noise - Vehicle                 647\n",
              "UNSANITARY CONDITION            628\n",
              "PLUMBING                        465\n",
              "Noise                           443\n",
              "dtype: int64"
            ]
          },
          "metadata": {},
          "execution_count": 28
        }
      ]
    }
  ]
}