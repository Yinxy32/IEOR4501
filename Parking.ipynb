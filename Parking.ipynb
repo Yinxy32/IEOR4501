{
 "cells": [
  {
   "cell_type": "code",
   "execution_count": 4,
   "metadata": {},
   "outputs": [
    {
     "name": "stderr",
     "output_type": "stream",
     "text": [
      "/home/seth/.local/lib/python3.8/site-packages/IPython/core/interactiveshell.py:3457: DtypeWarning: Columns (20,31,32) have mixed types.Specify dtype option on import or set low_memory=False.\n",
      "  exec(code_obj, self.user_global_ns, self.user_ns)\n"
     ]
    }
   ],
   "source": [
    "import pandas as pd\n",
    "\n",
    "# filepath\n",
    "filePath = '/home/seth/Downloads/311_Service_Requests_2020.csv'\n",
    "\n",
    "df = pd.read_csv(filePath)"
   ]
  },
  {
   "cell_type": "markdown",
   "metadata": {},
   "source": [
    "In the cell directly below, we will look at parking incidents(<b>numOfIllegalparking</b>) across all of the dataset. We will find the number through determining the number of rows in the dataset which have a \"<b>Complaint Type</b>\" of \"<b>Illegal Parking</b>\"."
   ]
  },
  {
   "cell_type": "code",
   "execution_count": 20,
   "metadata": {},
   "outputs": [],
   "source": [
    "# across whole data set -- parkingIncidents/allIncidents\n",
    "dfIllegalParking = df[df[\"Complaint Type\"] == \"Illegal Parking\"]\n",
    "numOfIllegalParkingOnly = len(dfIllegalParking)"
   ]
  },
  {
   "cell_type": "markdown",
   "metadata": {},
   "source": [
    "Now, we will determine the total number of incidents across all of the dataset (<b>numOfTotalIncidents</b>)."
   ]
  },
  {
   "cell_type": "code",
   "execution_count": 21,
   "metadata": {},
   "outputs": [],
   "source": [
    "numOfTotalIncidents = len(df)"
   ]
  },
  {
   "cell_type": "markdown",
   "metadata": {},
   "source": [
    "Let us now examine just for the zipcode which we are using, namely <b>10027</b>. First, find the total amount of incidents in solely the zipcode <b>10027</b>."
   ]
  },
  {
   "cell_type": "code",
   "execution_count": 22,
   "metadata": {},
   "outputs": [],
   "source": [
    "# across just 10027 -- parkingIncidents/allIncidents\n",
    "dfZipRestricted = df[df[\"Incident Zip\"] == 10027]\n",
    "numOfZipRestricted = len(dfZipRestricted)"
   ]
  },
  {
   "cell_type": "markdown",
   "metadata": {},
   "source": [
    "The total amount of parking incidents in the zipcode <b>10027</b> is calculated now."
   ]
  },
  {
   "cell_type": "code",
   "execution_count": 23,
   "metadata": {},
   "outputs": [],
   "source": [
    "dfZipRestrictedParking = dfZipRestricted[dfZipRestricted[\"Complaint Type\"] == \"Illegal Parking\"]\n",
    "numOfZipRestrictedParking = len(dfZipRestrictedParking)"
   ]
  },
  {
   "cell_type": "markdown",
   "metadata": {},
   "source": [
    "We will now find the respective proportions(<b>ParkingIncidents</b>/<b>TotalIncidents</b>) for the whole data set as well as the zipcode <b>10027</b>."
   ]
  },
  {
   "cell_type": "code",
   "execution_count": 24,
   "metadata": {},
   "outputs": [
    {
     "name": "stdout",
     "output_type": "stream",
     "text": [
      "ratioGlobal:  7.4873343650331075\n",
      "ratioRespectiveZipCode:  5.207265952491849\n"
     ]
    }
   ],
   "source": [
    "# save in boolean 'higher_parking_proportion\n",
    "ratioGlobal = numOfIllegalParkingOnly/numOfTotalIncidents\n",
    "ratioRespectiveZipCode = numOfZipRestrictedParking/numOfZipRestricted\n",
    "print(\"ratioGlobal: \",ratioGlobal*100)\n",
    "print(\"ratioRespectiveZipCode: \",ratioRespectiveZipCode*100)"
   ]
  },
  {
   "cell_type": "markdown",
   "metadata": {},
   "source": [
    "The <b>ratioGlobal</b>, which is the percentage representative of the total data set, is greater than the <b>ratioRespectiveZipCode</b>, which is only representative of the zipcode <b>10027</b>. Therefore, <b>higher_parking_proportion</b> will be set to <b>False</b>."
   ]
  },
  {
   "cell_type": "code",
   "execution_count": 25,
   "metadata": {},
   "outputs": [],
   "source": [
    "higher_parking_proportion = False"
   ]
  }
 ],
 "metadata": {
  "interpreter": {
   "hash": "916dbcbb3f70747c44a77c7bcd40155683ae19c65e1c03b4aa3499c5328201f1"
  },
  "kernelspec": {
   "display_name": "Python 3.8.10 64-bit",
   "language": "python",
   "name": "python3"
  },
  "language_info": {
   "codemirror_mode": {
    "name": "ipython",
    "version": 3
   },
   "file_extension": ".py",
   "mimetype": "text/x-python",
   "name": "python",
   "nbconvert_exporter": "python",
   "pygments_lexer": "ipython3",
   "version": "3.8.10"
  },
  "orig_nbformat": 4
 },
 "nbformat": 4,
 "nbformat_minor": 2
}
